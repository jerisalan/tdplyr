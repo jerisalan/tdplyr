{
 "cells": [
  {
   "cell_type": "markdown",
   "metadata": {},
   "source": [
    "# One hot encoding using tdplyr and dplyr\n",
    "\n",
    "This notebook illustrates how one can perform one-hot encoding on a data frame using regular dplyr verbs. It \n",
    "extends the concept to a remote tbl as well wherein dbplyr abstracts the underlyting SQL translations. Here \n",
    "I have demonstrated how it can be done with remote Teradata tbl's using tdplyr R package."
   ]
  },
  {
   "cell_type": "code",
   "execution_count": 1,
   "metadata": {},
   "outputs": [
    {
     "name": "stderr",
     "output_type": "stream",
     "text": [
      "\n",
      "Attaching package: ‘dplyr’\n",
      "\n",
      "The following objects are masked from ‘package:stats’:\n",
      "\n",
      "    filter, lag\n",
      "\n",
      "The following objects are masked from ‘package:base’:\n",
      "\n",
      "    intersect, setdiff, setequal, union\n",
      "\n",
      "Registered S3 methods overwritten by 'tdplyr':\n",
      "  method                     from  \n",
      "  db_analyze.Teradata        dbplyr\n",
      "  sql_translate_env.Teradata dbplyr\n",
      "Loading required package: grid\n"
     ]
    }
   ],
   "source": [
    "# Import necessary libraries\n",
    "library(dplyr)\n",
    "library(tdplyr)\n",
    "library(vcd)\n",
    "library(rlang)"
   ]
  },
  {
   "cell_type": "code",
   "execution_count": 2,
   "metadata": {},
   "outputs": [],
   "source": [
    "# One hot encoding function\n",
    "one_hot_encode <- function(df, column) {\n",
    "  if(is.null(column) || column == '' || is.na(column))\n",
    "    stop('Column parameter cannot be NULL, NA or empty')\n",
    "  if(!(inherits(df, \"data.frame\") || inherits(df, \"tbl_teradata\")))\n",
    "    stop('Invalid class for the input to be encoded')\n",
    "  if(!inherits(column, \"character\"))\n",
    "    stop('Invalid class for the `column` parameter')\n",
    "  if(length(column) > 1)\n",
    "    stop('Only one column can be one-hot encoded at a time')\n",
    "  if(!column %in% colnames(df))\n",
    "    stop('Column not found in the input data')\n",
    "  if(inherits(df, \"data.frame\") && !inherits_any(df[[column]], c(\"character\", \"factor\")))\n",
    "    stop('Provided column in data frame cannot be one-hot encoded')\n",
    "  if(inherits(df, \"tbl_teradata\") && df$types[which(!!sym(column) == colnames(df))][[1]] != \"varchar\")\n",
    "    stop('Provided column in tbl_teradata cannot be one-hot encoded')\n",
    "  \n",
    "  unique_val <- as.data.frame(df %>% distinct(!!sym(column)) %>% select(!!sym(column)))\n",
    "  for (val in unique_val[[column]]){\n",
    "    colname <- paste(column, val, sep = '_')\n",
    "    df <- df %>% mutate(\n",
    "      !!(sym(colname)) := if_else(!!sym(column) == val, 1L, 0L)\n",
    "    )\n",
    "  }\n",
    "  return(df)\n",
    "}"
   ]
  },
  {
   "cell_type": "code",
   "execution_count": 3,
   "metadata": {},
   "outputs": [
    {
     "data": {
      "text/html": [
       "<table>\n",
       "<caption>A data.frame: 6 × 5</caption>\n",
       "<thead>\n",
       "\t<tr><th scope=col>ID</th><th scope=col>Treatment</th><th scope=col>Sex</th><th scope=col>Age</th><th scope=col>Improved</th></tr>\n",
       "\t<tr><th scope=col>&lt;int&gt;</th><th scope=col>&lt;fct&gt;</th><th scope=col>&lt;fct&gt;</th><th scope=col>&lt;int&gt;</th><th scope=col>&lt;ord&gt;</th></tr>\n",
       "</thead>\n",
       "<tbody>\n",
       "\t<tr><td>57</td><td>Treated</td><td>Male</td><td>27</td><td>Some  </td></tr>\n",
       "\t<tr><td>46</td><td>Treated</td><td>Male</td><td>29</td><td>None  </td></tr>\n",
       "\t<tr><td>77</td><td>Treated</td><td>Male</td><td>30</td><td>None  </td></tr>\n",
       "\t<tr><td>17</td><td>Treated</td><td>Male</td><td>32</td><td>Marked</td></tr>\n",
       "\t<tr><td>36</td><td>Treated</td><td>Male</td><td>46</td><td>Marked</td></tr>\n",
       "\t<tr><td>23</td><td>Treated</td><td>Male</td><td>58</td><td>Marked</td></tr>\n",
       "</tbody>\n",
       "</table>\n"
      ],
      "text/latex": [
       "A data.frame: 6 × 5\n",
       "\\begin{tabular}{r|lllll}\n",
       " ID & Treatment & Sex & Age & Improved\\\\\n",
       " <int> & <fct> & <fct> & <int> & <ord>\\\\\n",
       "\\hline\n",
       "\t 57 & Treated & Male & 27 & Some  \\\\\n",
       "\t 46 & Treated & Male & 29 & None  \\\\\n",
       "\t 77 & Treated & Male & 30 & None  \\\\\n",
       "\t 17 & Treated & Male & 32 & Marked\\\\\n",
       "\t 36 & Treated & Male & 46 & Marked\\\\\n",
       "\t 23 & Treated & Male & 58 & Marked\\\\\n",
       "\\end{tabular}\n"
      ],
      "text/markdown": [
       "\n",
       "A data.frame: 6 × 5\n",
       "\n",
       "| ID &lt;int&gt; | Treatment &lt;fct&gt; | Sex &lt;fct&gt; | Age &lt;int&gt; | Improved &lt;ord&gt; |\n",
       "|---|---|---|---|---|\n",
       "| 57 | Treated | Male | 27 | Some   |\n",
       "| 46 | Treated | Male | 29 | None   |\n",
       "| 77 | Treated | Male | 30 | None   |\n",
       "| 17 | Treated | Male | 32 | Marked |\n",
       "| 36 | Treated | Male | 46 | Marked |\n",
       "| 23 | Treated | Male | 58 | Marked |\n",
       "\n"
      ],
      "text/plain": [
       "  ID Treatment Sex  Age Improved\n",
       "1 57 Treated   Male 27  Some    \n",
       "2 46 Treated   Male 29  None    \n",
       "3 77 Treated   Male 30  None    \n",
       "4 17 Treated   Male 32  Marked  \n",
       "5 36 Treated   Male 46  Marked  \n",
       "6 23 Treated   Male 58  Marked  "
      ]
     },
     "metadata": {},
     "output_type": "display_data"
    }
   ],
   "source": [
    "# Load data into memory\n",
    "data('Arthritis')\n",
    "df <- Arthritis\n",
    "head(df)"
   ]
  },
  {
   "cell_type": "code",
   "execution_count": 4,
   "metadata": {},
   "outputs": [],
   "source": [
    "# Establish connection with the Teradata database\n",
    "con <- td_create_context(host='*****', uid='*****', pwd='*****', dType='native')"
   ]
  },
  {
   "cell_type": "code",
   "execution_count": 5,
   "metadata": {},
   "outputs": [
    {
     "name": "stdout",
     "output_type": "stream",
     "text": [
      "[tdplyr - (TDR_E1001)] Note: This will drop existing table and recreate it with new schema.\n"
     ]
    },
    {
     "data": {
      "text/plain": [
       "\u001b[38;5;246m# Source:   table<arthritis> [?? x 5]\u001b[39m\n",
       "\u001b[38;5;246m# Database: [Teradata 16.20.34.01] [Teradata Native Driver 16.20.0.18]\n",
       "#   [ALICE@tdap1563t1.labs.teradata.com1025/ALICE]\u001b[39m\n",
       "      ID Treatment Sex      Age Improved\n",
       "   \u001b[3m\u001b[38;5;246m<int>\u001b[39m\u001b[23m \u001b[3m\u001b[38;5;246m<chr>\u001b[39m\u001b[23m     \u001b[3m\u001b[38;5;246m<chr>\u001b[39m\u001b[23m  \u001b[3m\u001b[38;5;246m<int>\u001b[39m\u001b[23m \u001b[3m\u001b[38;5;246m<chr>\u001b[39m\u001b[23m   \n",
       "\u001b[38;5;250m 1\u001b[39m    13 Treated   Female    67 Marked  \n",
       "\u001b[38;5;250m 2\u001b[39m    61 Treated   Female    68 Some    \n",
       "\u001b[38;5;250m 3\u001b[39m    38 Placebo   Female    32 None    \n",
       "\u001b[38;5;250m 4\u001b[39m    78 Placebo   Female    54 Marked  \n",
       "\u001b[38;5;250m 5\u001b[39m    19 Placebo   Female    63 Some    \n",
       "\u001b[38;5;250m 6\u001b[39m    59 Treated   Female    59 Marked  \n",
       "\u001b[38;5;250m 7\u001b[39m    36 Treated   Male      46 Marked  \n",
       "\u001b[38;5;250m 8\u001b[39m    15 Placebo   Female    66 Some    \n",
       "\u001b[38;5;250m 9\u001b[39m    40 Treated   Female    32 None    \n",
       "\u001b[38;5;250m10\u001b[39m    80 Placebo   Female    23 None    \n",
       "\u001b[38;5;246m# … with more rows\u001b[39m"
      ]
     },
     "metadata": {},
     "output_type": "display_data"
    }
   ],
   "source": [
    "ats <- copy_to(con, df, \"arthritis\", overwrite = TRUE)\n",
    "ats"
   ]
  },
  {
   "cell_type": "code",
   "execution_count": 7,
   "metadata": {},
   "outputs": [
    {
     "data": {
      "text/plain": [
       "\u001b[38;5;246m# Source:   lazy query [?? x 10]\u001b[39m\n",
       "\u001b[38;5;246m# Database: [Teradata 16.20.34.01] [Teradata Native Driver 16.20.0.18]\n",
       "#   [ALICE@tdap1563t1.labs.teradata.com1025/ALICE]\u001b[39m\n",
       "      ID Treatment Sex     Age Improved Sex_Female Sex_Male Improved_Marked\n",
       "   \u001b[3m\u001b[38;5;246m<int>\u001b[39m\u001b[23m \u001b[3m\u001b[38;5;246m<chr>\u001b[39m\u001b[23m     \u001b[3m\u001b[38;5;246m<chr>\u001b[39m\u001b[23m \u001b[3m\u001b[38;5;246m<int>\u001b[39m\u001b[23m \u001b[3m\u001b[38;5;246m<chr>\u001b[39m\u001b[23m         \u001b[3m\u001b[38;5;246m<int>\u001b[39m\u001b[23m    \u001b[3m\u001b[38;5;246m<int>\u001b[39m\u001b[23m           \u001b[3m\u001b[38;5;246m<int>\u001b[39m\u001b[23m\n",
       "\u001b[38;5;250m 1\u001b[39m    13 Treated   Fema…    67 Marked            1        0               1\n",
       "\u001b[38;5;250m 2\u001b[39m    61 Treated   Fema…    68 Some              1        0               0\n",
       "\u001b[38;5;250m 3\u001b[39m    38 Placebo   Fema…    32 None              1        0               0\n",
       "\u001b[38;5;250m 4\u001b[39m    78 Placebo   Fema…    54 Marked            1        0               1\n",
       "\u001b[38;5;250m 5\u001b[39m    19 Placebo   Fema…    63 Some              1        0               0\n",
       "\u001b[38;5;250m 6\u001b[39m    59 Treated   Fema…    59 Marked            1        0               1\n",
       "\u001b[38;5;250m 7\u001b[39m    36 Treated   Male     46 Marked            0        1               1\n",
       "\u001b[38;5;250m 8\u001b[39m    15 Placebo   Fema…    66 Some              1        0               0\n",
       "\u001b[38;5;250m 9\u001b[39m    40 Treated   Fema…    32 None              1        0               0\n",
       "\u001b[38;5;250m10\u001b[39m    80 Placebo   Fema…    23 None              1        0               0\n",
       "\u001b[38;5;246m# … with more rows, and 2 more variables: Improved_Some \u001b[3m\u001b[38;5;246m<int>\u001b[38;5;246m\u001b[23m,\n",
       "#   Improved_None \u001b[3m\u001b[38;5;246m<int>\u001b[38;5;246m\u001b[23m\u001b[39m"
      ]
     },
     "metadata": {},
     "output_type": "display_data"
    }
   ],
   "source": [
    "# Perform one-hot encoding on the remote tbl's 'Sex' and 'Improved' column\n",
    "ats1 <- one_hot_encode(ats, 'Sex')\n",
    "ats2 <- one_hot_encode(ats1, \"Improved\")\n",
    "ats2"
   ]
  },
  {
   "cell_type": "code",
   "execution_count": 8,
   "metadata": {},
   "outputs": [
    {
     "name": "stdout",
     "output_type": "stream",
     "text": [
      "<SQL>\n",
      "SELECT \"ID\", \"Treatment\", \"Sex\", \"Age\", \"Improved\", \"Sex_Female\", \"Sex_Male\", \"Improved_Marked\", \"Improved_Some\", CASE WHEN (\"Improved\" = 'None') THEN (1) WHEN NOT(\"Improved\" = 'None') THEN (0) END AS \"Improved_None\"\n",
      "FROM (SELECT \"ID\", \"Treatment\", \"Sex\", \"Age\", \"Improved\", \"Sex_Female\", \"Sex_Male\", \"Improved_Marked\", CASE WHEN (\"Improved\" = 'Some') THEN (1) WHEN NOT(\"Improved\" = 'Some') THEN (0) END AS \"Improved_Some\"\n",
      "FROM (SELECT \"ID\", \"Treatment\", \"Sex\", \"Age\", \"Improved\", \"Sex_Female\", \"Sex_Male\", CASE WHEN (\"Improved\" = 'Marked') THEN (1) WHEN NOT(\"Improved\" = 'Marked') THEN (0) END AS \"Improved_Marked\"\n",
      "FROM (SELECT \"ID\", \"Treatment\", \"Sex\", \"Age\", \"Improved\", \"Sex_Female\", CASE WHEN (\"Sex\" = 'Male') THEN (1) WHEN NOT(\"Sex\" = 'Male') THEN (0) END AS \"Sex_Male\"\n",
      "FROM (SELECT \"ID\", \"Treatment\", \"Sex\", \"Age\", \"Improved\", CASE WHEN (\"Sex\" = 'Female') THEN (1) WHEN NOT(\"Sex\" = 'Female') THEN (0) END AS \"Sex_Female\"\n",
      "FROM \"arthritis\") \"dbplyr_021\") \"dbplyr_022\") \"dbplyr_023\") \"dbplyr_024\"\n"
     ]
    }
   ],
   "source": [
    "# To view the corresponding SQL queries of the remote tbl's\n",
    "ats2 %>% show_query()"
   ]
  },
  {
   "cell_type": "code",
   "execution_count": 9,
   "metadata": {},
   "outputs": [
    {
     "data": {
      "text/html": [
       "<table>\n",
       "<caption>A data.frame: 6 × 9</caption>\n",
       "<thead>\n",
       "\t<tr><th scope=col>ID</th><th scope=col>Treatment</th><th scope=col>Sex</th><th scope=col>Age</th><th scope=col>Improved</th><th scope=col>Treatment_Treated</th><th scope=col>Treatment_Placebo</th><th scope=col>Sex_Male</th><th scope=col>Sex_Female</th></tr>\n",
       "\t<tr><th scope=col>&lt;int&gt;</th><th scope=col>&lt;fct&gt;</th><th scope=col>&lt;fct&gt;</th><th scope=col>&lt;int&gt;</th><th scope=col>&lt;ord&gt;</th><th scope=col>&lt;int&gt;</th><th scope=col>&lt;int&gt;</th><th scope=col>&lt;int&gt;</th><th scope=col>&lt;int&gt;</th></tr>\n",
       "</thead>\n",
       "<tbody>\n",
       "\t<tr><td>57</td><td>Treated</td><td>Male</td><td>27</td><td>Some  </td><td>1</td><td>0</td><td>1</td><td>0</td></tr>\n",
       "\t<tr><td>46</td><td>Treated</td><td>Male</td><td>29</td><td>None  </td><td>1</td><td>0</td><td>1</td><td>0</td></tr>\n",
       "\t<tr><td>77</td><td>Treated</td><td>Male</td><td>30</td><td>None  </td><td>1</td><td>0</td><td>1</td><td>0</td></tr>\n",
       "\t<tr><td>17</td><td>Treated</td><td>Male</td><td>32</td><td>Marked</td><td>1</td><td>0</td><td>1</td><td>0</td></tr>\n",
       "\t<tr><td>36</td><td>Treated</td><td>Male</td><td>46</td><td>Marked</td><td>1</td><td>0</td><td>1</td><td>0</td></tr>\n",
       "\t<tr><td>23</td><td>Treated</td><td>Male</td><td>58</td><td>Marked</td><td>1</td><td>0</td><td>1</td><td>0</td></tr>\n",
       "</tbody>\n",
       "</table>\n"
      ],
      "text/latex": [
       "A data.frame: 6 × 9\n",
       "\\begin{tabular}{r|lllllllll}\n",
       " ID & Treatment & Sex & Age & Improved & Treatment\\_Treated & Treatment\\_Placebo & Sex\\_Male & Sex\\_Female\\\\\n",
       " <int> & <fct> & <fct> & <int> & <ord> & <int> & <int> & <int> & <int>\\\\\n",
       "\\hline\n",
       "\t 57 & Treated & Male & 27 & Some   & 1 & 0 & 1 & 0\\\\\n",
       "\t 46 & Treated & Male & 29 & None   & 1 & 0 & 1 & 0\\\\\n",
       "\t 77 & Treated & Male & 30 & None   & 1 & 0 & 1 & 0\\\\\n",
       "\t 17 & Treated & Male & 32 & Marked & 1 & 0 & 1 & 0\\\\\n",
       "\t 36 & Treated & Male & 46 & Marked & 1 & 0 & 1 & 0\\\\\n",
       "\t 23 & Treated & Male & 58 & Marked & 1 & 0 & 1 & 0\\\\\n",
       "\\end{tabular}\n"
      ],
      "text/markdown": [
       "\n",
       "A data.frame: 6 × 9\n",
       "\n",
       "| ID &lt;int&gt; | Treatment &lt;fct&gt; | Sex &lt;fct&gt; | Age &lt;int&gt; | Improved &lt;ord&gt; | Treatment_Treated &lt;int&gt; | Treatment_Placebo &lt;int&gt; | Sex_Male &lt;int&gt; | Sex_Female &lt;int&gt; |\n",
       "|---|---|---|---|---|---|---|---|---|\n",
       "| 57 | Treated | Male | 27 | Some   | 1 | 0 | 1 | 0 |\n",
       "| 46 | Treated | Male | 29 | None   | 1 | 0 | 1 | 0 |\n",
       "| 77 | Treated | Male | 30 | None   | 1 | 0 | 1 | 0 |\n",
       "| 17 | Treated | Male | 32 | Marked | 1 | 0 | 1 | 0 |\n",
       "| 36 | Treated | Male | 46 | Marked | 1 | 0 | 1 | 0 |\n",
       "| 23 | Treated | Male | 58 | Marked | 1 | 0 | 1 | 0 |\n",
       "\n"
      ],
      "text/plain": [
       "  ID Treatment Sex  Age Improved Treatment_Treated Treatment_Placebo Sex_Male\n",
       "1 57 Treated   Male 27  Some     1                 0                 1       \n",
       "2 46 Treated   Male 29  None     1                 0                 1       \n",
       "3 77 Treated   Male 30  None     1                 0                 1       \n",
       "4 17 Treated   Male 32  Marked   1                 0                 1       \n",
       "5 36 Treated   Male 46  Marked   1                 0                 1       \n",
       "6 23 Treated   Male 58  Marked   1                 0                 1       \n",
       "  Sex_Female\n",
       "1 0         \n",
       "2 0         \n",
       "3 0         \n",
       "4 0         \n",
       "5 0         \n",
       "6 0         "
      ]
     },
     "metadata": {},
     "output_type": "display_data"
    }
   ],
   "source": [
    "# One hot encoding a column in a data frame\n",
    "a1 <- one_hot_encode(df, 'Treatment')\n",
    "a2 <- one_hot_encode(a1, 'Sex')\n",
    "head(a2)"
   ]
  }
 ],
 "metadata": {
  "kernelspec": {
   "display_name": "R",
   "language": "R",
   "name": "ir"
  },
  "language_info": {
   "codemirror_mode": "r",
   "file_extension": ".r",
   "mimetype": "text/x-r-source",
   "name": "R",
   "pygments_lexer": "r",
   "version": "3.6.1"
  }
 },
 "nbformat": 4,
 "nbformat_minor": 2
}
